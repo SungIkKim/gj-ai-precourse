{
  "nbformat": 4,
  "nbformat_minor": 0,
  "metadata": {
    "colab": {
      "name": "1주차_과제.ipynb",
      "provenance": [],
      "authorship_tag": "ABX9TyPc+YkPZOq+JjjKsFuaVZsU",
      "include_colab_link": true
    },
    "kernelspec": {
      "name": "python3",
      "display_name": "Python 3"
    }
  },
  "cells": [
    {
      "cell_type": "markdown",
      "metadata": {
        "id": "view-in-github",
        "colab_type": "text"
      },
      "source": [
        "<a href=\"https://colab.research.google.com/github/SungIkKim/gj-ai-precourse/blob/master/1%EC%A3%BC%EC%B0%A8_%EA%B3%BC%EC%A0%9C.ipynb\" target=\"_parent\"><img src=\"https://colab.research.google.com/assets/colab-badge.svg\" alt=\"Open In Colab\"/></a>"
      ]
    },
    {
      "cell_type": "markdown",
      "metadata": {
        "id": "7Ck9I0ZyWPTt",
        "colab_type": "text"
      },
      "source": [
        "# 1주차 과제 (2020.06.05)\n",
        "인공지능 기술이 발전함에 따라 많음 제품과 서비스에 적용되고 있다. 특히 언어, 음성, 이미지, 자율주행의 분야에서 적용되고 있다. 4가지 분야에서 적용된 인공지능  기술과 제품 및 서비스를 알아본다."
      ]
    },
    {
      "cell_type": "markdown",
      "metadata": {
        "id": "HO-H8U_xw-HV",
        "colab_type": "text"
      },
      "source": [
        "## 1.1. 언어\n",
        "언어분야에서 가장 대표적인 것은 번역이다. 그중에서 네이버에서 개발한 번역서비스인 __파파고__이다. 파파고는 네이버에서 자체 개발한 __인공신경망(Artificial Neural Network)__기반 번역서비스로 지원언어로는 한국어, 영어, 일본어, 중국어, 프랑스어, 스페인어 등이 있다.\n",
        "주요기능으로는  1:1 대화 모드 와 이미지 번역이 있다.\n"
      ]
    },
    {
      "cell_type": "markdown",
      "metadata": {
        "id": "3DvL_K6-xAsm",
        "colab_type": "text"
      },
      "source": [
        "## 1.2. 음성\n",
        "음성분야에는 애플의 __Siri__가 있다. Siri는 __자연어 처리(Natural Language Processing)__로 단순작업이나 시스템 설정뿐만 아니라 일상적인 대화  대화도 어느 적동 가능하다. 지원언어로는 한국어, 영어, 아랍어, 일본어, 프랑스어 등이 있다."
      ]
    },
    {
      "cell_type": "markdown",
      "metadata": {
        "id": "LSbUl_k_xEyA",
        "colab_type": "text"
      },
      "source": [
        "## 1.3. 이미지\n",
        "이미지 분야는 __waifu2x__가 있다. waifu2x는  딥 러닝을 통해 배운 것을 토대로, 해상도 복원 서비스를 제공하는 사이트이다. 반복된 이미지 처리 __CNN 학습__을 기초로 발전된 이미지 및 동영상 알고리즘을 사용하면서 이미지 해상도를 개선한다.\n",
        "사진 뿐뿐만 아니라 동영상을 확대하는 기술도 나오고 있다."
      ]
    },
    {
      "cell_type": "markdown",
      "metadata": {
        "id": "2_vMncEBxOI-",
        "colab_type": "text"
      },
      "source": [
        "## 1.4. 자율주행\n",
        "마지막으로 자율 주행분야에는 테슬라의 __오토 파일럿__이 있다. 테슬라에서 사용되는 __ADAS(Advanced Driver Assistance Systems)__이다. ADAS는 센서가 위험상황을 감지하여 사고의 위험을 운전자에게 경고하고 운전자가 판단하여 대처 할 수 있도록 도와주는 안전장치이다. \n",
        "현재 적용된 기능은 크게 차선유지, 속도 유지, 차선 변경등이 있다."
      ]
    }
  ]
}